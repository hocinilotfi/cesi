{
 "cells": [
  {
   "cell_type": "markdown",
   "id": "71fb1947",
   "metadata": {},
   "source": [
    "# ETS 2 : Graphes"
   ]
  },
  {
   "cell_type": "code",
   "execution_count": 4,
   "id": "04472617",
   "metadata": {},
   "outputs": [
    {
     "name": "stdout",
     "output_type": "stream",
     "text": [
      "[[1 2 0 1 2 1]\n",
      " [2 2 1 3 0 3]\n",
      " [0 2 1 1 3 2]\n",
      " [0 0 0 0 0 0]\n",
      " [1 2 1 2 3 2]\n",
      " [0 1 1 1 1 2]]\n"
     ]
    }
   ],
   "source": [
    "import numpy as np\n",
    "m =[\n",
    "    [0,1,0,0,0,1],\n",
    "    [0,0,1,1,0,1],\n",
    "    [0,1,0,0,1,0],\n",
    "    [0,0,0,0,0,0],\n",
    "    [1,1,0,1,0,1],\n",
    "    [0,0,0,0,1,0]\n",
    "]\n",
    "M = np.array(m)\n",
    "M = np.linalg.matrix_power(M,3)\n",
    "print(M)"
   ]
  },
  {
   "cell_type": "markdown",
   "id": "3ea1826e",
   "metadata": {},
   "source": [
    "## Ressources\n",
    "    Programmation en Python pour les mathématiques Cours et exercices Ed 2 Pages 238-243\n",
    "    Programmation en Python pour les mathématiques Cours et exercices Ed 2 Pages 170 à 178"
   ]
  },
  {
   "cell_type": "markdown",
   "id": "f695a045",
   "metadata": {},
   "source": [
    "## Représentation par liste d'adjacence"
   ]
  },
  {
   "cell_type": "code",
   "execution_count": 36,
   "id": "7d9ebfae",
   "metadata": {},
   "outputs": [],
   "source": [
    "#!/usr/bin/env python3\n",
    "# -*- coding: utf-8 -*-\n",
    "\n",
    "########################################################################\n",
    "# (C) Alexandre Casamayou-Boucau, Pascal Chauvin, Guillaume Connan     #\n",
    "#                                                                      #\n",
    "# Complément de l'ouvrage :                                            #\n",
    "# Programmation en Python pour les mathématiques                       #\n",
    "# Editeur : Dunod                   -        Collection : Sciences Sup #\n",
    "# ISBN-13: 978-2100738311           -                  Licence : GPLv2 #\n",
    "########################################################################\n",
    "\n",
    "\n",
    "\n",
    "class graphe(object):\n",
    "\n",
    "\tdef __init__(self, liste_adj =None):\n",
    "\t\t\"\"\"  \"\"\"\n",
    "\t\tself.__liste_adj = liste_adj\n",
    "\n",
    "\n",
    "\n",
    "\tdef __str__(self):\n",
    "\t\t\"\"\"  \"\"\"\n",
    "\t\treturn str(self.__liste_adj)\n",
    "\n",
    "\n",
    "\n",
    "\tdef adjacents(self, a):\n",
    "\t\t\"\"\"  \"\"\"\n",
    "\t\tif self.__liste_adj is not None:\n",
    "\t\t\tif a in self.__liste_adj.keys():\n",
    "\t\t\t\treturn self.__liste_adj[a]\n",
    "\t\treturn []\n",
    "\n",
    "\n",
    "\n",
    "\tdef est_adjacent(self, a, b):\n",
    "\t\t\"\"\"  \"\"\"\n",
    "\t\treturn (b in self.adjacents(a))\n",
    "\n",
    "\n",
    "\n",
    "\tdef liste_adjacence(self):\n",
    "\t\t\"\"\"  \"\"\"\n",
    "\t\treturn self.__liste_adj\n",
    "\n",
    "\n",
    "\n",
    "\tdef sommets(self):\n",
    "\t\t\"\"\"  \"\"\"\n",
    "\t\tif self.__liste_adj is None:\n",
    "\t\t\treturn []\n",
    "\t\telse:\n",
    "\t\t\tt = list(self.__liste_adj.keys())\n",
    "\t\t\tt.sort()\n",
    "\t\t\treturn t\n",
    "\n",
    "\n",
    "\n",
    "\tdef degre(self):\n",
    "\t\t\"\"\"  \"\"\"\n",
    "\t\treturn len(self.__liste_adj)\n",
    "\n",
    "\n",
    "\n",
    "\tdef composante_connexe(self, s):\n",
    "\t\t\"\"\"  \"\"\"\n",
    "\t\tp = []\n",
    "\t\tif s in self.sommets():\n",
    "\t\t\tq = []\n",
    "\t\t\tq.append(s)\n",
    "\t\t\tvisite = []\n",
    "\t\t\tvisite.append(s)\n",
    "\t\t\twhile len(q) > 0:\n",
    "\t\t\t\tx = q.pop(0)\n",
    "\t\t\t\tp.append(x)\n",
    "\t\t\t\tfor t in self.adjacents(x):\n",
    "\t\t\t\t\tif t not in visite:\n",
    "\t\t\t\t\t\tq.append(t)\n",
    "\t\t\t\t\t\tvisite.append(t)\n",
    "\t\tp.sort()\n",
    "\t\treturn p\n",
    "\n",
    "\n",
    "\n",
    "\tdef composantes(self):\n",
    "\t\t\"\"\"  \"\"\"\n",
    "\t\tc = []\n",
    "\t\tfor s in self.sommets():\n",
    "\t\t\tt = self.composante_connexe(s)\n",
    "\t\t\tt.sort()\n",
    "\t\t\tif t not in c:\n",
    "\t\t\t\tc.append(t)\n",
    "\t\treturn c\n",
    "\n",
    "\n",
    "\n",
    "\tdef liaison(self, a, b):\n",
    "\t\t\"\"\"  \"\"\"\n",
    "\t\treturn (b in self.composante_connexe(a))\n",
    "\t\t\t\n",
    "\n",
    "\n",
    "\tdef chaines(self, a, b):\n",
    "\t\t\"\"\"  \"\"\"\n",
    "\t\tll = []\n",
    "\t\tll.append([a])\n",
    "\t\twhile not arret(ll, b):\n",
    "\t\t\tq = []\n",
    "\t\t\tfor p in ll:\n",
    "\t\t\t\tu = p[-1]\n",
    "\t\t\t\tif u == b:\n",
    "\t\t\t\t\tq.append(p)\n",
    "\t\t\t\telse:\n",
    "\t\t\t\t\ts = self.adjacents(u)\n",
    "\t\t\t\t\tfor t in s:\n",
    "\t\t\t\t\t\tif not (t in p):\n",
    "\t\t\t\t\t\t\tv = [i for i in p]\n",
    "\t\t\t\t\t\t\tv.append(t)\n",
    "\t\t\t\t\t\t\tq.append(v)\n",
    "\t\t\tll = q\n",
    "\t\treturn ll\n",
    "\n",
    "\n",
    "\n",
    "\tdef recherche_chaines(self, a, b):\n",
    "\t\t\"\"\"  \"\"\"\n",
    "\t\tp = []\n",
    "\t\tif a != b and self.liaison(a, b):\n",
    "\t\t\tp = self.chaines(a, b)\n",
    "\t\treturn p\n",
    "\n",
    "\n",
    "\n",
    "def arret(liste, s):\n",
    "\t\"\"\"  \"\"\"\n",
    "\tfor item in liste:\n",
    "\t\tif item[-1] is not s:\n",
    "\t\t\treturn False\n",
    "\treturn True\n",
    "\n"
   ]
  },
  {
   "cell_type": "code",
   "execution_count": 37,
   "id": "9e738104",
   "metadata": {},
   "outputs": [],
   "source": [
    "def test1():\n",
    "\tprint(\"----- test 1 -----\")\n",
    "\tg = graphe(\n",
    "\t\t{\n",
    "\t\t\t'1': ['2', '3', '4'], \n",
    "\t\t\t'2': ['1', '3'], \n",
    "\t\t\t'3': ['1', '2', '4'], \n",
    "\t\t\t'4': ['1', '3']\n",
    "\t\t}\n",
    "\t)\n",
    "\n",
    "\tfor c in g.recherche_chaines('1', '3'):\n",
    "\t\tprint(c)\n",
    "\n",
    "\tfor c in g.recherche_chaines('1', '2'):\n",
    "\t\tprint(c)"
   ]
  },
  {
   "cell_type": "code",
   "execution_count": 38,
   "id": "9eaec6f5",
   "metadata": {},
   "outputs": [
    {
     "name": "stdout",
     "output_type": "stream",
     "text": [
      "----- test 1 -----\n",
      "['1', '2', '3']\n",
      "['1', '3']\n",
      "['1', '4', '3']\n",
      "['1', '2']\n",
      "['1', '3', '2']\n",
      "['1', '4', '3', '2']\n"
     ]
    }
   ],
   "source": [
    "test1()"
   ]
  },
  {
   "cell_type": "code",
   "execution_count": 39,
   "id": "4ad645f5",
   "metadata": {},
   "outputs": [],
   "source": [
    "def test2():\n",
    "\tprint(\"----- test 2 -----\")\n",
    "\tg = graphe(\n",
    "\t\t{\n",
    "\t\t\t'A': ['B', 'D'], \n",
    "\t\t\t'B': ['A', 'C', 'D', 'E', 'F'], \n",
    "\t\t\t'C': ['B', 'F'], \n",
    "\t\t\t'D': ['A', 'B', 'E'], \n",
    "\t\t\t'E': ['B', 'D', 'F'], \n",
    "\t\t\t'F': ['B', 'C', 'E'], \n",
    "\t\t\t'G': ['H'], \n",
    "\t\t\t'H': ['G']\n",
    "\t\t}\n",
    "\t)\n",
    "\n",
    "#\tprint(g)\n",
    "\n",
    "#\tfor k in g.sommets():\n",
    "#\t\tprint(k, \":\", g.adjacents(k))\n",
    "\n",
    "\tfor c in g.recherche_chaines('A', 'F'):\n",
    "\t\tprint(c)\n",
    "\n",
    "#\tprint()\n",
    "\n",
    "#\tfor c in g.recherche_chaines('F', 'A'):\n",
    "#\t\tprint(c)\n",
    "\n",
    "#\tfor c in g.recherche_chaines('G', 'H'):\n",
    "#\t\tprint(c)"
   ]
  },
  {
   "cell_type": "code",
   "execution_count": 40,
   "id": "89429712",
   "metadata": {},
   "outputs": [
    {
     "name": "stdout",
     "output_type": "stream",
     "text": [
      "----- test 2 -----\n",
      "['A', 'B', 'C', 'F']\n",
      "['A', 'B', 'D', 'E', 'F']\n",
      "['A', 'B', 'E', 'F']\n",
      "['A', 'B', 'F']\n",
      "['A', 'D', 'B', 'C', 'F']\n",
      "['A', 'D', 'B', 'E', 'F']\n",
      "['A', 'D', 'B', 'F']\n",
      "['A', 'D', 'E', 'B', 'C', 'F']\n",
      "['A', 'D', 'E', 'B', 'F']\n",
      "['A', 'D', 'E', 'F']\n"
     ]
    }
   ],
   "source": [
    "test2()"
   ]
  },
  {
   "cell_type": "markdown",
   "id": "f9f406f4",
   "metadata": {},
   "source": [
    "## Algo Dijkstra"
   ]
  },
  {
   "cell_type": "code",
   "execution_count": 3,
   "id": "b3b3b042",
   "metadata": {},
   "outputs": [],
   "source": [
    "from queue import PriorityQueue\n",
    "\n",
    "class Graph:\n",
    "    \n",
    "    def __init__(self, num_of_vertices):\n",
    "        self.v = num_of_vertices\n",
    "        self.edges = [[-1 for i in range(num_of_vertices)] for j in range(num_of_vertices)]\n",
    "        self.visited = []\n",
    "        \n",
    "    def add_edge(self, u, v, weight):\n",
    "        self.edges[u][v] = weight\n",
    "        self.edges[v][u] = weight"
   ]
  },
  {
   "cell_type": "code",
   "execution_count": 4,
   "id": "1a57f1b3",
   "metadata": {},
   "outputs": [],
   "source": [
    "def dijkstra(graph, start_vertex):\n",
    "    D = {v:float('inf') for v in range(graph.v)}\n",
    "    D[start_vertex] = 0\n",
    "\n",
    "    pq = PriorityQueue()\n",
    "    pq.put((0, start_vertex))\n",
    "\n",
    "    while not pq.empty():\n",
    "        (dist, current_vertex) = pq.get()\n",
    "        graph.visited.append(current_vertex)\n",
    "\n",
    "        for neighbor in range(graph.v):\n",
    "            if graph.edges[current_vertex][neighbor] != -1:\n",
    "                distance = graph.edges[current_vertex][neighbor]\n",
    "                if neighbor not in graph.visited:\n",
    "                    old_cost = D[neighbor]\n",
    "                    new_cost = D[current_vertex] + distance\n",
    "                    if new_cost < old_cost:\n",
    "                        pq.put((new_cost, neighbor))\n",
    "                        D[neighbor] = new_cost\n",
    "    return D"
   ]
  },
  {
   "cell_type": "markdown",
   "id": "12807719",
   "metadata": {},
   "source": [
    "## Test the dijkstra algo"
   ]
  },
  {
   "cell_type": "markdown",
   "id": "8da22139",
   "metadata": {},
   "source": [
    "![Image](test3.png \"a title\")"
   ]
  },
  {
   "cell_type": "code",
   "execution_count": 5,
   "id": "19e2f203",
   "metadata": {},
   "outputs": [],
   "source": [
    "\n",
    "def test3():\n",
    "\n",
    "    g = Graph(4)\n",
    "    g.add_edge(0, 1, 2)\n",
    "    g.add_edge(0, 2, 5)\n",
    "    g.add_edge(1, 0, 3)\n",
    "    g.add_edge(1, 2, 4)\n",
    "    g.add_edge(1, 3, 8)\n",
    "    g.add_edge(2, 1, 3)\n",
    "    g.add_edge(2, 3, 7)\n",
    "    g.add_edge(3, 2, 1)\n",
    "    g.add_edge(3, 0, 2)\n",
    "    \n",
    "   \n",
    "    \n",
    "    \n",
    "    D = dijkstra(g, 0)\n",
    "    print(D)\n",
    "    #Or, we could format it a bit more nicely:\n",
    "    for vertex in range(len(D)):\n",
    "        print(\"Distance from vertex 0 to vertex\", vertex, \"is\", D[vertex])"
   ]
  },
  {
   "cell_type": "code",
   "execution_count": 6,
   "id": "9daf44c3",
   "metadata": {},
   "outputs": [
    {
     "name": "stdout",
     "output_type": "stream",
     "text": [
      "{0: 0, 1: 3, 2: 3, 3: 2}\n",
      "Distance from vertex 0 to vertex 0 is 0\n",
      "Distance from vertex 0 to vertex 1 is 3\n",
      "Distance from vertex 0 to vertex 2 is 3\n",
      "Distance from vertex 0 to vertex 3 is 2\n"
     ]
    }
   ],
   "source": [
    "test3()"
   ]
  }
 ],
 "metadata": {
  "kernelspec": {
   "display_name": "Python 3 (ipykernel)",
   "language": "python",
   "name": "python3"
  },
  "language_info": {
   "codemirror_mode": {
    "name": "ipython",
    "version": 3
   },
   "file_extension": ".py",
   "mimetype": "text/x-python",
   "name": "python",
   "nbconvert_exporter": "python",
   "pygments_lexer": "ipython3",
   "version": "3.9.7"
  },
  "vscode": {
   "interpreter": {
    "hash": "2fc04e65acd1ce121f14bb2c9a011f89ab7b007d02fd265393ae24976ccf11c8"
   }
  }
 },
 "nbformat": 4,
 "nbformat_minor": 5
}
